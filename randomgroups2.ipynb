{
 "cells": [
  {
   "cell_type": "code",
   "execution_count": 1,
   "metadata": {},
   "outputs": [],
   "source": [
    "import pandas as pd\n",
    "import random"
   ]
  },
  {
   "cell_type": "code",
   "execution_count": 2,
   "metadata": {},
   "outputs": [],
   "source": [
    "roster = pd.read_csv(\"roster.csv\")"
   ]
  },
  {
   "cell_type": "code",
   "execution_count": 3,
   "metadata": {},
   "outputs": [
    {
     "data": {
      "text/html": [
       "<div>\n",
       "<style scoped>\n",
       "    .dataframe tbody tr th:only-of-type {\n",
       "        vertical-align: middle;\n",
       "    }\n",
       "\n",
       "    .dataframe tbody tr th {\n",
       "        vertical-align: top;\n",
       "    }\n",
       "\n",
       "    .dataframe thead th {\n",
       "        text-align: right;\n",
       "    }\n",
       "</style>\n",
       "<table border=\"1\" class=\"dataframe\">\n",
       "  <thead>\n",
       "    <tr style=\"text-align: right;\">\n",
       "      <th></th>\n",
       "      <th>Email</th>\n",
       "      <th>Name</th>\n",
       "    </tr>\n",
       "  </thead>\n",
       "  <tbody>\n",
       "    <tr>\n",
       "      <th>0</th>\n",
       "      <td>do_m1@denison.edu</td>\n",
       "      <td>Minh</td>\n",
       "    </tr>\n",
       "    <tr>\n",
       "      <th>1</th>\n",
       "      <td>gupta_i1@denison.edu</td>\n",
       "      <td>Ishaan</td>\n",
       "    </tr>\n",
       "    <tr>\n",
       "      <th>2</th>\n",
       "      <td>le_l1@denison.edu</td>\n",
       "      <td>Lan</td>\n",
       "    </tr>\n",
       "    <tr>\n",
       "      <th>3</th>\n",
       "      <td>leblan_h1@denison.edu</td>\n",
       "      <td>Hayley</td>\n",
       "    </tr>\n",
       "    <tr>\n",
       "      <th>4</th>\n",
       "      <td>liang_d1@denison.edu</td>\n",
       "      <td>Desmond</td>\n",
       "    </tr>\n",
       "    <tr>\n",
       "      <th>5</th>\n",
       "      <td>lieper_b1@denison.edu</td>\n",
       "      <td>Ben</td>\n",
       "    </tr>\n",
       "    <tr>\n",
       "      <th>6</th>\n",
       "      <td>nguyen_h2@denison.edu</td>\n",
       "      <td>Hieu</td>\n",
       "    </tr>\n",
       "    <tr>\n",
       "      <th>7</th>\n",
       "      <td>nguyen_q1@denison.edu</td>\n",
       "      <td>Quang</td>\n",
       "    </tr>\n",
       "    <tr>\n",
       "      <th>8</th>\n",
       "      <td>phan_h1@denison.edu</td>\n",
       "      <td>Hiep</td>\n",
       "    </tr>\n",
       "    <tr>\n",
       "      <th>9</th>\n",
       "      <td>readgr_r1@denison.edu</td>\n",
       "      <td>Federico</td>\n",
       "    </tr>\n",
       "    <tr>\n",
       "      <th>10</th>\n",
       "      <td>rinker_m1@denison.edu</td>\n",
       "      <td>Matt</td>\n",
       "    </tr>\n",
       "    <tr>\n",
       "      <th>11</th>\n",
       "      <td>smith_c12@denison.edu</td>\n",
       "      <td>Colin</td>\n",
       "    </tr>\n",
       "    <tr>\n",
       "      <th>12</th>\n",
       "      <td>song_p1@denison.edu</td>\n",
       "      <td>Kevin</td>\n",
       "    </tr>\n",
       "    <tr>\n",
       "      <th>13</th>\n",
       "      <td>steinm_e1@denison.edu</td>\n",
       "      <td>Emma</td>\n",
       "    </tr>\n",
       "    <tr>\n",
       "      <th>14</th>\n",
       "      <td>sthila_e1@denison.edu</td>\n",
       "      <td>Edwin</td>\n",
       "    </tr>\n",
       "    <tr>\n",
       "      <th>15</th>\n",
       "      <td>tallma_d1@denison.edu</td>\n",
       "      <td>Dylan</td>\n",
       "    </tr>\n",
       "    <tr>\n",
       "      <th>16</th>\n",
       "      <td>taylak_s1@denison.edu</td>\n",
       "      <td>Sardor</td>\n",
       "    </tr>\n",
       "    <tr>\n",
       "      <th>17</th>\n",
       "      <td>tran_b1@denison.edu</td>\n",
       "      <td>Bryan</td>\n",
       "    </tr>\n",
       "    <tr>\n",
       "      <th>18</th>\n",
       "      <td>tran_q1@denison.edu</td>\n",
       "      <td>Quan</td>\n",
       "    </tr>\n",
       "    <tr>\n",
       "      <th>19</th>\n",
       "      <td>wang_z1@denison.edu</td>\n",
       "      <td>Zack</td>\n",
       "    </tr>\n",
       "    <tr>\n",
       "      <th>20</th>\n",
       "      <td>weicht_b1@denison.edu</td>\n",
       "      <td>Brett</td>\n",
       "    </tr>\n",
       "  </tbody>\n",
       "</table>\n",
       "</div>"
      ],
      "text/plain": [
       "                    Email      Name\n",
       "0       do_m1@denison.edu      Minh\n",
       "1    gupta_i1@denison.edu    Ishaan\n",
       "2       le_l1@denison.edu       Lan\n",
       "3   leblan_h1@denison.edu    Hayley\n",
       "4    liang_d1@denison.edu   Desmond\n",
       "5   lieper_b1@denison.edu       Ben\n",
       "6   nguyen_h2@denison.edu      Hieu\n",
       "7   nguyen_q1@denison.edu     Quang\n",
       "8     phan_h1@denison.edu      Hiep\n",
       "9   readgr_r1@denison.edu  Federico\n",
       "10  rinker_m1@denison.edu      Matt\n",
       "11  smith_c12@denison.edu     Colin\n",
       "12    song_p1@denison.edu     Kevin\n",
       "13  steinm_e1@denison.edu      Emma\n",
       "14  sthila_e1@denison.edu     Edwin\n",
       "15  tallma_d1@denison.edu     Dylan\n",
       "16  taylak_s1@denison.edu    Sardor\n",
       "17    tran_b1@denison.edu     Bryan\n",
       "18    tran_q1@denison.edu      Quan\n",
       "19    wang_z1@denison.edu      Zack\n",
       "20  weicht_b1@denison.edu     Brett"
      ]
     },
     "execution_count": 3,
     "metadata": {},
     "output_type": "execute_result"
    }
   ],
   "source": [
    "roster"
   ]
  },
  {
   "cell_type": "code",
   "execution_count": 4,
   "metadata": {},
   "outputs": [],
   "source": [
    "studentlist = list(roster.Name)"
   ]
  },
  {
   "cell_type": "code",
   "execution_count": 5,
   "metadata": {},
   "outputs": [],
   "source": [
    "studentlist2 = [['Matt', 'Edwin', 'Zack'],\n",
    "                ['Dylan', 'Sardor', 'Bryan'],\n",
    "                ['Hayley', 'Hiep', 'Quan'],\n",
    "                ['Ishaan', 'Lan', 'Colin'],\n",
    "                ['Desmond', 'Hieu', 'Quang'],\n",
    "                ['Ben', 'Federico', 'Emma'],\n",
    "                ['Minh', 'Kevin', 'Brett']]"
   ]
  },
  {
   "cell_type": "code",
   "execution_count": 6,
   "metadata": {},
   "outputs": [
    {
     "data": {
      "text/plain": [
       "[['Matt', 'Edwin', 'Zack'],\n",
       " ['Dylan', 'Sardor', 'Bryan'],\n",
       " ['Hayley', 'Hiep', 'Quan'],\n",
       " ['Ishaan', 'Lan', 'Colin'],\n",
       " ['Desmond', 'Hieu', 'Quang'],\n",
       " ['Ben', 'Federico', 'Emma'],\n",
       " ['Minh', 'Kevin', 'Brett']]"
      ]
     },
     "execution_count": 6,
     "metadata": {},
     "output_type": "execute_result"
    }
   ],
   "source": [
    "studentlist2"
   ]
  },
  {
   "cell_type": "code",
   "execution_count": 7,
   "metadata": {},
   "outputs": [],
   "source": [
    "def getGroup(LoL, name):\n",
    "    for group in LoL:\n",
    "        if name in group:\n",
    "            return group\n",
    "    assert False"
   ]
  },
  {
   "cell_type": "code",
   "execution_count": 8,
   "metadata": {},
   "outputs": [
    {
     "data": {
      "text/plain": [
       "['Ishaan', 'Lan', 'Colin']"
      ]
     },
     "execution_count": 8,
     "metadata": {},
     "output_type": "execute_result"
    }
   ],
   "source": [
    "getGroup(studentlist2, 'Colin')"
   ]
  },
  {
   "cell_type": "code",
   "execution_count": 9,
   "metadata": {},
   "outputs": [
    {
     "name": "stdout",
     "output_type": "stream",
     "text": [
      "Colin ['Ishaan', 'Lan', 'Colin']\n",
      "1 : ['Dylan', 'Kevin', 'Colin']\n",
      "Matt ['Matt', 'Edwin', 'Zack']\n",
      "2 : ['Sardor', 'Ishaan', 'Matt']\n",
      "Quang ['Desmond', 'Hieu', 'Quang']\n",
      "3 : ['Federico', 'Zack', 'Quang']\n",
      "Hieu ['Desmond', 'Hieu', 'Quang']\n",
      "4 : ['Minh', 'Edwin', 'Hieu']\n",
      "Quan ['Hayley', 'Hiep', 'Quan']\n",
      "5 : ['Brett', 'Emma', 'Quan']\n",
      "Hiep ['Hayley', 'Hiep', 'Quan']\n",
      "6 : ['Lan', 'Ben', 'Hiep']\n",
      "Hayley ['Hayley', 'Hiep', 'Quan']\n",
      "7 : ['Desmond', 'Bryan', 'Hayley']\n"
     ]
    }
   ],
   "source": [
    "studentlist = list(roster.Name)\n",
    "group = 1\n",
    "random.seed(6538)\n",
    "while len(studentlist) > 0:\n",
    "    first_member = random.choice(studentlist)\n",
    "    project1group = getGroup(studentlist2, first_member)\n",
    "    print(first_member, project1group)\n",
    "    subset = list(set(studentlist) - set(project1group))\n",
    "    #print(subset)\n",
    "    assert len(subset) > 0\n",
    "    newgroup = random.sample(subset, 2)\n",
    "    newgroup.append(first_member)\n",
    "    print(group, ':', newgroup)\n",
    "    group = group + 1\n",
    "    studentlist = list(set(studentlist) - set(newgroup))"
   ]
  },
  {
   "cell_type": "code",
   "execution_count": null,
   "metadata": {},
   "outputs": [],
   "source": []
  }
 ],
 "metadata": {
  "kernelspec": {
   "display_name": "Python 3",
   "language": "python",
   "name": "python3"
  },
  "language_info": {
   "codemirror_mode": {
    "name": "ipython",
    "version": 3
   },
   "file_extension": ".py",
   "mimetype": "text/x-python",
   "name": "python",
   "nbconvert_exporter": "python",
   "pygments_lexer": "ipython3",
   "version": "3.6.5"
  }
 },
 "nbformat": 4,
 "nbformat_minor": 2
}
