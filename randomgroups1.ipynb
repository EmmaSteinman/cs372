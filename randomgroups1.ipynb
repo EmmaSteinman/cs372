{
 "cells": [
  {
   "cell_type": "code",
   "execution_count": 26,
   "metadata": {},
   "outputs": [],
   "source": [
    "import pandas as pd\n",
    "import random"
   ]
  },
  {
   "cell_type": "code",
   "execution_count": 27,
   "metadata": {},
   "outputs": [],
   "source": [
    "roster = pd.read_csv(\"roster.csv\")"
   ]
  },
  {
   "cell_type": "code",
   "execution_count": 28,
   "metadata": {},
   "outputs": [
    {
     "data": {
      "text/html": [
       "<div>\n",
       "<style scoped>\n",
       "    .dataframe tbody tr th:only-of-type {\n",
       "        vertical-align: middle;\n",
       "    }\n",
       "\n",
       "    .dataframe tbody tr th {\n",
       "        vertical-align: top;\n",
       "    }\n",
       "\n",
       "    .dataframe thead th {\n",
       "        text-align: right;\n",
       "    }\n",
       "</style>\n",
       "<table border=\"1\" class=\"dataframe\">\n",
       "  <thead>\n",
       "    <tr style=\"text-align: right;\">\n",
       "      <th></th>\n",
       "      <th>Email</th>\n",
       "    </tr>\n",
       "  </thead>\n",
       "  <tbody>\n",
       "    <tr>\n",
       "      <th>0</th>\n",
       "      <td>do_m1@denison.edu</td>\n",
       "    </tr>\n",
       "    <tr>\n",
       "      <th>1</th>\n",
       "      <td>gupta_i1@denison.edu</td>\n",
       "    </tr>\n",
       "    <tr>\n",
       "      <th>2</th>\n",
       "      <td>le_l1@denison.edu</td>\n",
       "    </tr>\n",
       "    <tr>\n",
       "      <th>3</th>\n",
       "      <td>leblan_h1@denison.edu</td>\n",
       "    </tr>\n",
       "    <tr>\n",
       "      <th>4</th>\n",
       "      <td>liang_d1@denison.edu</td>\n",
       "    </tr>\n",
       "    <tr>\n",
       "      <th>5</th>\n",
       "      <td>lieper_b1@denison.edu</td>\n",
       "    </tr>\n",
       "    <tr>\n",
       "      <th>6</th>\n",
       "      <td>nguyen_h2@denison.edu</td>\n",
       "    </tr>\n",
       "    <tr>\n",
       "      <th>7</th>\n",
       "      <td>nguyen_q1@denison.edu</td>\n",
       "    </tr>\n",
       "    <tr>\n",
       "      <th>8</th>\n",
       "      <td>phan_h1@denison.edu</td>\n",
       "    </tr>\n",
       "    <tr>\n",
       "      <th>9</th>\n",
       "      <td>readgr_r1@denison.edu</td>\n",
       "    </tr>\n",
       "    <tr>\n",
       "      <th>10</th>\n",
       "      <td>rinker_m1@denison.edu</td>\n",
       "    </tr>\n",
       "    <tr>\n",
       "      <th>11</th>\n",
       "      <td>smith_c12@denison.edu</td>\n",
       "    </tr>\n",
       "    <tr>\n",
       "      <th>12</th>\n",
       "      <td>song_p1@denison.edu</td>\n",
       "    </tr>\n",
       "    <tr>\n",
       "      <th>13</th>\n",
       "      <td>steinm_e1@denison.edu</td>\n",
       "    </tr>\n",
       "    <tr>\n",
       "      <th>14</th>\n",
       "      <td>sthila_e1@denison.edu</td>\n",
       "    </tr>\n",
       "    <tr>\n",
       "      <th>15</th>\n",
       "      <td>tallma_d1@denison.edu</td>\n",
       "    </tr>\n",
       "    <tr>\n",
       "      <th>16</th>\n",
       "      <td>taylak_s1@denison.edu</td>\n",
       "    </tr>\n",
       "    <tr>\n",
       "      <th>17</th>\n",
       "      <td>tran_b1@denison.edu</td>\n",
       "    </tr>\n",
       "    <tr>\n",
       "      <th>18</th>\n",
       "      <td>tran_q1@denison.edu</td>\n",
       "    </tr>\n",
       "    <tr>\n",
       "      <th>19</th>\n",
       "      <td>wang_z1@denison.edu</td>\n",
       "    </tr>\n",
       "    <tr>\n",
       "      <th>20</th>\n",
       "      <td>weicht_b1@denison.edu</td>\n",
       "    </tr>\n",
       "  </tbody>\n",
       "</table>\n",
       "</div>"
      ],
      "text/plain": [
       "                    Email\n",
       "0       do_m1@denison.edu\n",
       "1    gupta_i1@denison.edu\n",
       "2       le_l1@denison.edu\n",
       "3   leblan_h1@denison.edu\n",
       "4    liang_d1@denison.edu\n",
       "5   lieper_b1@denison.edu\n",
       "6   nguyen_h2@denison.edu\n",
       "7   nguyen_q1@denison.edu\n",
       "8     phan_h1@denison.edu\n",
       "9   readgr_r1@denison.edu\n",
       "10  rinker_m1@denison.edu\n",
       "11  smith_c12@denison.edu\n",
       "12    song_p1@denison.edu\n",
       "13  steinm_e1@denison.edu\n",
       "14  sthila_e1@denison.edu\n",
       "15  tallma_d1@denison.edu\n",
       "16  taylak_s1@denison.edu\n",
       "17    tran_b1@denison.edu\n",
       "18    tran_q1@denison.edu\n",
       "19    wang_z1@denison.edu\n",
       "20  weicht_b1@denison.edu"
      ]
     },
     "execution_count": 28,
     "metadata": {},
     "output_type": "execute_result"
    }
   ],
   "source": [
    "roster"
   ]
  },
  {
   "cell_type": "code",
   "execution_count": 29,
   "metadata": {},
   "outputs": [],
   "source": [
    "studentlist = list(roster.Email)"
   ]
  },
  {
   "cell_type": "code",
   "execution_count": 30,
   "metadata": {},
   "outputs": [
    {
     "data": {
      "text/plain": [
       "['do_m1@denison.edu',\n",
       " 'gupta_i1@denison.edu',\n",
       " 'le_l1@denison.edu',\n",
       " 'leblan_h1@denison.edu',\n",
       " 'liang_d1@denison.edu',\n",
       " 'lieper_b1@denison.edu',\n",
       " 'nguyen_h2@denison.edu',\n",
       " 'nguyen_q1@denison.edu',\n",
       " 'phan_h1@denison.edu',\n",
       " 'readgr_r1@denison.edu',\n",
       " 'rinker_m1@denison.edu',\n",
       " 'smith_c12@denison.edu',\n",
       " 'song_p1@denison.edu',\n",
       " 'steinm_e1@denison.edu',\n",
       " 'sthila_e1@denison.edu',\n",
       " 'tallma_d1@denison.edu',\n",
       " 'taylak_s1@denison.edu',\n",
       " 'tran_b1@denison.edu',\n",
       " 'tran_q1@denison.edu',\n",
       " 'wang_z1@denison.edu',\n",
       " 'weicht_b1@denison.edu']"
      ]
     },
     "execution_count": 30,
     "metadata": {},
     "output_type": "execute_result"
    }
   ],
   "source": [
    "studentlist"
   ]
  },
  {
   "cell_type": "code",
   "execution_count": 31,
   "metadata": {},
   "outputs": [
    {
     "name": "stdout",
     "output_type": "stream",
     "text": [
      "A ['wang_z1@denison.edu', 'rinker_m1@denison.edu', 'sthila_e1@denison.edu']\n",
      "B ['taylak_s1@denison.edu', 'tran_b1@denison.edu', 'tallma_d1@denison.edu']\n",
      "C ['leblan_h1@denison.edu', 'tran_q1@denison.edu', 'phan_h1@denison.edu']\n",
      "D ['smith_c12@denison.edu', 'gupta_i1@denison.edu', 'le_l1@denison.edu']\n",
      "E ['liang_d1@denison.edu', 'nguyen_q1@denison.edu', 'nguyen_h2@denison.edu']\n",
      "F ['readgr_r1@denison.edu', 'steinm_e1@denison.edu', 'lieper_b1@denison.edu']\n",
      "G ['do_m1@denison.edu', 'weicht_b1@denison.edu', 'song_p1@denison.edu']\n"
     ]
    }
   ],
   "source": [
    "group = 'A'\n",
    "random.seed = 4378\n",
    "while len(studentlist) > 0:\n",
    "    group_members = random.sample(studentlist, 3)\n",
    "    print(group, group_members)\n",
    "    group = chr(ord(group) + 1)\n",
    "    remaining = set(studentlist) - set(group_members)\n",
    "    studentlist = list(remaining)"
   ]
  },
  {
   "cell_type": "code",
   "execution_count": null,
   "metadata": {},
   "outputs": [],
   "source": []
  }
 ],
 "metadata": {
  "kernelspec": {
   "display_name": "Python 3",
   "language": "python",
   "name": "python3"
  },
  "language_info": {
   "codemirror_mode": {
    "name": "ipython",
    "version": 3
   },
   "file_extension": ".py",
   "mimetype": "text/x-python",
   "name": "python",
   "nbconvert_exporter": "python",
   "pygments_lexer": "ipython3",
   "version": "3.6.5"
  }
 },
 "nbformat": 4,
 "nbformat_minor": 2
}
